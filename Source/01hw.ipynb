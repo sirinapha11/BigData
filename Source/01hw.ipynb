{
 "cells": [
  {
   "cell_type": "code",
   "execution_count": 1,
   "metadata": {},
   "outputs": [
    {
     "name": "stdout",
     "output_type": "stream",
     "text": [
      "สาขาวิทยาการคอมพิวเตอร์\n"
     ]
    }
   ],
   "source": [
    "print(\"สาขาวิทยาการคอมพิวเตอร์\")"
   ]
  },
  {
   "cell_type": "code",
   "execution_count": 2,
   "metadata": {},
   "outputs": [
    {
     "name": "stdout",
     "output_type": "stream",
     "text": [
      "ชั้นปีที่ 3\n"
     ]
    }
   ],
   "source": [
    "print(\"ชั้นปีที่ 3\")"
   ]
  },
  {
   "cell_type": "code",
   "execution_count": 3,
   "metadata": {},
   "outputs": [
    {
     "name": "stdout",
     "output_type": "stream",
     "text": [
      "มหาวิทยาลัยราชภัฎศรีสะเกษ\n"
     ]
    }
   ],
   "source": [
    "print(\"มหาวิทยาลัยราชภัฎศรีสะเกษ\")"
   ]
  }
 ],
 "metadata": {
  "interpreter": {
   "hash": "973d8f7f9c1e89b61704d49fb2bac439780f91db7e737ac819ee2c97521c4705"
  },
  "kernelspec": {
   "display_name": "Python 3.8.8 64-bit ('base': conda)",
   "name": "python3"
  },
  "language_info": {
   "codemirror_mode": {
    "name": "ipython",
    "version": 3
   },
   "file_extension": ".py",
   "mimetype": "text/x-python",
   "name": "python",
   "nbconvert_exporter": "python",
   "pygments_lexer": "ipython3",
   "version": "3.8.8"
  },
  "orig_nbformat": 4
 },
 "nbformat": 4,
 "nbformat_minor": 2
}

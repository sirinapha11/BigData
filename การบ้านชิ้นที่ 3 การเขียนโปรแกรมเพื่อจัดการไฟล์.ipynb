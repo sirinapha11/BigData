{
 "cells": [
  {
   "cell_type": "code",
   "execution_count": 43,
   "id": "f5a089d4",
   "metadata": {},
   "outputs": [
    {
     "name": "stdout",
     "output_type": "stream",
     "text": [
      "['PEP:/20']\n",
      "['Title:/The Zen of Python']\n",
      "['Author:/tim.peters at gmail.com (Tim Peters)']\n",
      "['Status:/Active']\n",
      "['Type:/Informational']\n",
      "['Created:/19-Aug-2004']\n",
      "['Post-History:/22-Aug-2004']\n"
     ]
    }
   ],
   "source": [
    "import csv \n",
    "with open('./file.csv') as csvDataFile:\n",
    "    csvReader = csv.reader(csvDataFile)\n",
    "    for row in csvReader:\n",
    "        print(row)"
   ]
  },
  {
   "cell_type": "code",
   "execution_count": null,
   "id": "8692ec33",
   "metadata": {},
   "outputs": [],
   "source": []
  },
  {
   "cell_type": "code",
   "execution_count": null,
   "id": "adf6fd14",
   "metadata": {},
   "outputs": [],
   "source": []
  },
  {
   "cell_type": "code",
   "execution_count": 15,
   "id": "31f87597",
   "metadata": {},
   "outputs": [
    {
     "data": {
      "text/plain": [
       "\"ï»¿1. Beautiful is better than ugly.\\n2. Explicit is better than implicit.\\n3. Simple is better than complex.\\n4. Complex is better than complicated.\\n5. Flat is better than nested.\\n6. Sparse is better than dense.\\n7. Readability counts.\\n8. Special cases aren't special enough to break the rules.\\n9. Although practicality beats purity.\\n10. Errors should never pass silently.\\n11. Unless explicitly silenced.\\n12. In the face of ambiguity, refuse the temptation to guess.\\n13.There should be one-- and preferably only one --obvious way to do it.\\n14. Although that way may not be obvious at first unless you're Dutch.\\n15. Now is better than never.\\n16. Although never is often better than *right* now.\\n17. If the implementation is hard to explain, it's a bad idea.\\n18. If the implementation is easy to explain, it may be a good idea.\\n19. Namespaces are one honking great idea -- let's do more of those!\\n\\n\""
      ]
     },
     "execution_count": 15,
     "metadata": {},
     "output_type": "execute_result"
    }
   ],
   "source": [
    "f = open('./zen_of_python.txt')\n",
    "f.read()"
   ]
  },
  {
   "cell_type": "code",
   "execution_count": 14,
   "id": "dffce798",
   "metadata": {},
   "outputs": [
    {
     "name": "stdout",
     "output_type": "stream",
     "text": [
      " 1: ï»¿1. Beautiful is better than ugly.\n",
      " 2: 2. Explicit is better than implicit.\n",
      " 3: 3. Simple is better than complex.\n",
      " 4: 4. Complex is better than complicated.\n",
      " 5: 5. Flat is better than nested.\n",
      " 6: 6. Sparse is better than dense.\n",
      " 7: 7. Readability counts.\n",
      " 8: 8. Special cases aren't special enough to break the rules.\n",
      " 9: 9. Although practicality beats purity.\n",
      " 10: 10. Errors should never pass silently.\n",
      " 11: 11. Unless explicitly silenced.\n",
      " 12: 12. In the face of ambiguity, refuse the temptation to guess.\n",
      " 13: 13.There should be one-- and preferably only one --obvious way to do it.\n",
      " 14: 14. Although that way may not be obvious at first unless you're Dutch.\n",
      " 15: 15. Now is better than never.\n",
      " 16: 16. Although never is often better than *right* now.\n",
      " 17: 17. If the implementation is hard to explain, it's a bad idea.\n",
      " 18: 18. If the implementation is easy to explain, it may be a good idea.\n",
      " 19: 19. Namespaces are one honking great idea -- let's do more of those!\n",
      " 20: \n"
     ]
    }
   ],
   "source": [
    "with open('./zen_of_python.txt') as fp:  \n",
    "    cnt = 1\n",
    "    for line in fp:\n",
    "        print(\" {}: {}\".format(cnt, line.strip()))\n",
    "        cnt += 1"
   ]
  },
  {
   "cell_type": "code",
   "execution_count": 44,
   "id": "59acb46f",
   "metadata": {},
   "outputs": [
    {
     "name": "stdout",
     "output_type": "stream",
     "text": [
      "19. Namespaces are one honking great idea -- let's do more of those!]\n",
      "18. If the implementation is easy to explain, it may be a good idea.\n",
      "17. If the implementation is hard to explain, it's a bad idea.\n",
      "16. Although never is often better than *right* now.\n",
      "15. Now is better than never.\n",
      "14. Although that way may not be obvious at first unless you're Dutch.\n",
      "13.There should be one-- and preferably only one --obvious way to do it.\n",
      "12. In the face of ambiguity, refuse the temptation to guess.\n",
      "11. Unless explicitly silenced.\n",
      "10. Errors should never pass silently.\n",
      "9. Although practicality beats purity.\n",
      "8. Special cases aren't special enough to break the rules.\n",
      "7. Readability counts.\n",
      "6. Sparse is better than dense.\n",
      "5. Flat is better than nested.\n",
      "4. Complex is better than complicated.\n",
      "3. Simple is better than complex.\n",
      "2. Explicit is better than implicit.\n",
      "1. Beautiful is better than ugly.\n"
     ]
    }
   ],
   "source": [
    "data = [\"19. Namespaces are one honking great idea -- let's do more of those!]\",\n",
    "        \"18. If the implementation is easy to explain, it may be a good idea.\",\n",
    "        \"17. If the implementation is hard to explain, it's a bad idea.\",\n",
    "        \"16. Although never is often better than *right* now.\",\n",
    "        \"15. Now is better than never.\",\n",
    "        \"14. Although that way may not be obvious at first unless you're Dutch.\",\n",
    "        \"13.There should be one-- and preferably only one --obvious way to do it.\",\n",
    "        \"12. In the face of ambiguity, refuse the temptation to guess.\",\n",
    "        \"11. Unless explicitly silenced.\",\n",
    "        \"10. Errors should never pass silently.\",\n",
    "        \"9. Although practicality beats purity.\",\n",
    "        \"8. Special cases aren't special enough to break the rules.\",\n",
    "        \"7. Readability counts.\",\n",
    "        \"6. Sparse is better than dense.\",\n",
    "        \"5. Flat is better than nested.\",\n",
    "        \"4. Complex is better than complicated.\",\n",
    "        \"3. Simple is better than complex.\",\n",
    "        \"2. Explicit is better than implicit.\",\n",
    "        \"1. Beautiful is better than ugly.\",]\n",
    "\n",
    "\n",
    "        \n",
    "with open('./zen_of_python.txt', 'w') as fp:\n",
    "    for line in data:\n",
    "        fp.write(line+\"\\n\")\n",
    "        \n",
    "with open('./zen_of_python.txt', 'r') as fp:  \n",
    "    line = fp.readline()\n",
    "    while line:\n",
    "        print(\"{}\".format(line.strip()))\n",
    "        line = fp.readline()"
   ]
  },
  {
   "cell_type": "code",
   "execution_count": null,
   "id": "49e6524d",
   "metadata": {},
   "outputs": [],
   "source": []
  },
  {
   "cell_type": "code",
   "execution_count": null,
   "id": "005042e6",
   "metadata": {},
   "outputs": [],
   "source": []
  }
 ],
 "metadata": {
  "kernelspec": {
   "display_name": "Python 3",
   "language": "python",
   "name": "python3"
  },
  "language_info": {
   "codemirror_mode": {
    "name": "ipython",
    "version": 3
   },
   "file_extension": ".py",
   "mimetype": "text/x-python",
   "name": "python",
   "nbconvert_exporter": "python",
   "pygments_lexer": "ipython3",
   "version": "3.8.8"
  }
 },
 "nbformat": 4,
 "nbformat_minor": 5
}
